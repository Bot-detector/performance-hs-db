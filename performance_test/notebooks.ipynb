{
 "cells": [
  {
   "cell_type": "code",
   "execution_count": 16,
   "id": "c4a904a3",
   "metadata": {},
   "outputs": [
    {
     "name": "stdout",
     "output_type": "stream",
     "text": [
      "Note: you may need to restart the kernel to use updated packages.\n"
     ]
    }
   ],
   "source": [
    "%pip -q install pandas"
   ]
  },
  {
   "cell_type": "code",
   "execution_count": 17,
   "id": "a67a3c9b",
   "metadata": {},
   "outputs": [
    {
     "data": {
      "text/html": [
       "<div>\n",
       "<style scoped>\n",
       "    .dataframe tbody tr th:only-of-type {\n",
       "        vertical-align: middle;\n",
       "    }\n",
       "\n",
       "    .dataframe tbody tr th {\n",
       "        vertical-align: top;\n",
       "    }\n",
       "\n",
       "    .dataframe thead th {\n",
       "        text-align: right;\n",
       "    }\n",
       "</style>\n",
       "<table border=\"1\" class=\"dataframe\">\n",
       "  <thead>\n",
       "    <tr style=\"text-align: right;\">\n",
       "      <th></th>\n",
       "      <th>key</th>\n",
       "      <th>value</th>\n",
       "      <th>_time</th>\n",
       "      <th>_id</th>\n",
       "      <th>_implementation</th>\n",
       "    </tr>\n",
       "  </thead>\n",
       "  <tbody>\n",
       "    <tr>\n",
       "      <th>0</th>\n",
       "      <td>test_insert_duration_ms_100</td>\n",
       "      <td>42.0</td>\n",
       "      <td>2024-07-13 22:54:55.172945976</td>\n",
       "      <td>a3238eb6-5374-4e4a-bd8c-f6db7378d44b</td>\n",
       "      <td>example</td>\n",
       "    </tr>\n",
       "    <tr>\n",
       "      <th>1</th>\n",
       "      <td>test_insert_100</td>\n",
       "      <td>0.0</td>\n",
       "      <td>2024-07-13 22:54:55.172956467</td>\n",
       "      <td>a3238eb6-5374-4e4a-bd8c-f6db7378d44b</td>\n",
       "      <td>example</td>\n",
       "    </tr>\n",
       "    <tr>\n",
       "      <th>2</th>\n",
       "      <td>test_insert_duration_ms_100</td>\n",
       "      <td>41.0</td>\n",
       "      <td>2024-07-13 22:54:55.264714241</td>\n",
       "      <td>a3238eb6-5374-4e4a-bd8c-f6db7378d44b</td>\n",
       "      <td>example</td>\n",
       "    </tr>\n",
       "    <tr>\n",
       "      <th>3</th>\n",
       "      <td>test_insert_100</td>\n",
       "      <td>100.0</td>\n",
       "      <td>2024-07-13 22:54:55.264720678</td>\n",
       "      <td>a3238eb6-5374-4e4a-bd8c-f6db7378d44b</td>\n",
       "      <td>example</td>\n",
       "    </tr>\n",
       "    <tr>\n",
       "      <th>4</th>\n",
       "      <td>test_insert_duration_ms_100</td>\n",
       "      <td>51.0</td>\n",
       "      <td>2024-07-13 22:54:55.376498461</td>\n",
       "      <td>a3238eb6-5374-4e4a-bd8c-f6db7378d44b</td>\n",
       "      <td>example</td>\n",
       "    </tr>\n",
       "  </tbody>\n",
       "</table>\n",
       "</div>"
      ],
      "text/plain": [
       "                           key  value                         _time  \\\n",
       "0  test_insert_duration_ms_100   42.0 2024-07-13 22:54:55.172945976   \n",
       "1              test_insert_100    0.0 2024-07-13 22:54:55.172956467   \n",
       "2  test_insert_duration_ms_100   41.0 2024-07-13 22:54:55.264714241   \n",
       "3              test_insert_100  100.0 2024-07-13 22:54:55.264720678   \n",
       "4  test_insert_duration_ms_100   51.0 2024-07-13 22:54:55.376498461   \n",
       "\n",
       "                                    _id _implementation  \n",
       "0  a3238eb6-5374-4e4a-bd8c-f6db7378d44b         example  \n",
       "1  a3238eb6-5374-4e4a-bd8c-f6db7378d44b         example  \n",
       "2  a3238eb6-5374-4e4a-bd8c-f6db7378d44b         example  \n",
       "3  a3238eb6-5374-4e4a-bd8c-f6db7378d44b         example  \n",
       "4  a3238eb6-5374-4e4a-bd8c-f6db7378d44b         example  "
      ]
     },
     "execution_count": 17,
     "metadata": {},
     "output_type": "execute_result"
    }
   ],
   "source": [
    "import os\n",
    "import pandas as pd\n",
    "\n",
    "# Define the folder containing the jsonl files\n",
    "folder_path = './metrics'\n",
    "\n",
    "# List all files in the directory\n",
    "files = [f for f in os.listdir(folder_path) if f.endswith('.jsonl')]\n",
    "\n",
    "# Initialize an empty list to hold DataFrames\n",
    "data_frames = []\n",
    "\n",
    "# Loop through the list of files and read each jsonl file\n",
    "for file in files:\n",
    "    file_path = os.path.join(folder_path, file)\n",
    "    df = pd.read_json(file_path, lines=True)\n",
    "    data_frames.append(df)\n",
    "\n",
    "# Concatenate all DataFrames into one\n",
    "combined_df = pd.concat(data_frames, ignore_index=True)\n",
    "\n",
    "# Display the combined DataFrame\n",
    "combined_df.head()\n"
   ]
  },
  {
   "cell_type": "code",
   "execution_count": 18,
   "id": "1db0bdd5",
   "metadata": {},
   "outputs": [
    {
     "data": {
      "text/html": [
       "<div>\n",
       "<style scoped>\n",
       "    .dataframe tbody tr th:only-of-type {\n",
       "        vertical-align: middle;\n",
       "    }\n",
       "\n",
       "    .dataframe tbody tr th {\n",
       "        vertical-align: top;\n",
       "    }\n",
       "\n",
       "    .dataframe thead th {\n",
       "        text-align: right;\n",
       "    }\n",
       "</style>\n",
       "<table border=\"1\" class=\"dataframe\">\n",
       "  <thead>\n",
       "    <tr style=\"text-align: right;\">\n",
       "      <th></th>\n",
       "      <th></th>\n",
       "      <th></th>\n",
       "      <th>value</th>\n",
       "    </tr>\n",
       "    <tr>\n",
       "      <th>_id</th>\n",
       "      <th>_implementation</th>\n",
       "      <th>key</th>\n",
       "      <th></th>\n",
       "    </tr>\n",
       "  </thead>\n",
       "  <tbody>\n",
       "    <tr>\n",
       "      <th rowspan=\"7\" valign=\"top\">21a85b8f-605c-4523-9551-29a5920c34ab</th>\n",
       "      <th rowspan=\"7\" valign=\"top\">example</th>\n",
       "      <th>test_insert_duration_ms_100</th>\n",
       "      <td>50335.0</td>\n",
       "    </tr>\n",
       "    <tr>\n",
       "      <th>test_insert_duration_ms_1000</th>\n",
       "      <td>35542.0</td>\n",
       "    </tr>\n",
       "    <tr>\n",
       "      <th>test_insert_duration_ms_10000</th>\n",
       "      <td>36789.0</td>\n",
       "    </tr>\n",
       "    <tr>\n",
       "      <th>test_insert_duration_ms_2000</th>\n",
       "      <td>34836.0</td>\n",
       "    </tr>\n",
       "    <tr>\n",
       "      <th>test_insert_duration_ms_20000</th>\n",
       "      <td>35825.0</td>\n",
       "    </tr>\n",
       "    <tr>\n",
       "      <th>test_insert_duration_ms_4000</th>\n",
       "      <td>32278.0</td>\n",
       "    </tr>\n",
       "    <tr>\n",
       "      <th>test_insert_duration_ms_500</th>\n",
       "      <td>36011.0</td>\n",
       "    </tr>\n",
       "    <tr>\n",
       "      <th rowspan=\"7\" valign=\"top\">a3238eb6-5374-4e4a-bd8c-f6db7378d44b</th>\n",
       "      <th rowspan=\"7\" valign=\"top\">example</th>\n",
       "      <th>test_insert_duration_ms_100</th>\n",
       "      <td>53422.0</td>\n",
       "    </tr>\n",
       "    <tr>\n",
       "      <th>test_insert_duration_ms_1000</th>\n",
       "      <td>38561.0</td>\n",
       "    </tr>\n",
       "    <tr>\n",
       "      <th>test_insert_duration_ms_10000</th>\n",
       "      <td>37194.0</td>\n",
       "    </tr>\n",
       "    <tr>\n",
       "      <th>test_insert_duration_ms_2000</th>\n",
       "      <td>41070.0</td>\n",
       "    </tr>\n",
       "    <tr>\n",
       "      <th>test_insert_duration_ms_20000</th>\n",
       "      <td>40120.0</td>\n",
       "    </tr>\n",
       "    <tr>\n",
       "      <th>test_insert_duration_ms_4000</th>\n",
       "      <td>36136.0</td>\n",
       "    </tr>\n",
       "    <tr>\n",
       "      <th>test_insert_duration_ms_500</th>\n",
       "      <td>36368.0</td>\n",
       "    </tr>\n",
       "    <tr>\n",
       "      <th rowspan=\"7\" valign=\"top\">c6c3ece5-1472-4e3f-8b1a-3f09f2aae790</th>\n",
       "      <th rowspan=\"7\" valign=\"top\">example</th>\n",
       "      <th>test_insert_duration_ms_100</th>\n",
       "      <td>47607.0</td>\n",
       "    </tr>\n",
       "    <tr>\n",
       "      <th>test_insert_duration_ms_1000</th>\n",
       "      <td>27568.0</td>\n",
       "    </tr>\n",
       "    <tr>\n",
       "      <th>test_insert_duration_ms_10000</th>\n",
       "      <td>30647.0</td>\n",
       "    </tr>\n",
       "    <tr>\n",
       "      <th>test_insert_duration_ms_2000</th>\n",
       "      <td>31388.0</td>\n",
       "    </tr>\n",
       "    <tr>\n",
       "      <th>test_insert_duration_ms_20000</th>\n",
       "      <td>34268.0</td>\n",
       "    </tr>\n",
       "    <tr>\n",
       "      <th>test_insert_duration_ms_4000</th>\n",
       "      <td>27665.0</td>\n",
       "    </tr>\n",
       "    <tr>\n",
       "      <th>test_insert_duration_ms_500</th>\n",
       "      <td>30987.0</td>\n",
       "    </tr>\n",
       "    <tr>\n",
       "      <th rowspan=\"7\" valign=\"top\">2ae68537-622c-4d6e-90f1-2d1e8bad70bb</th>\n",
       "      <th rowspan=\"7\" valign=\"top\">example2</th>\n",
       "      <th>test_insert_duration_ms_100</th>\n",
       "      <td>48146.0</td>\n",
       "    </tr>\n",
       "    <tr>\n",
       "      <th>test_insert_duration_ms_1000</th>\n",
       "      <td>28956.0</td>\n",
       "    </tr>\n",
       "    <tr>\n",
       "      <th>test_insert_duration_ms_10000</th>\n",
       "      <td>22290.0</td>\n",
       "    </tr>\n",
       "    <tr>\n",
       "      <th>test_insert_duration_ms_2000</th>\n",
       "      <td>29690.0</td>\n",
       "    </tr>\n",
       "    <tr>\n",
       "      <th>test_insert_duration_ms_20000</th>\n",
       "      <td>21801.0</td>\n",
       "    </tr>\n",
       "    <tr>\n",
       "      <th>test_insert_duration_ms_4000</th>\n",
       "      <td>24507.0</td>\n",
       "    </tr>\n",
       "    <tr>\n",
       "      <th>test_insert_duration_ms_500</th>\n",
       "      <td>33367.0</td>\n",
       "    </tr>\n",
       "    <tr>\n",
       "      <th rowspan=\"7\" valign=\"top\">4fa8bd5b-e953-4f3e-8191-5b4b4639d2c8</th>\n",
       "      <th rowspan=\"7\" valign=\"top\">example2</th>\n",
       "      <th>test_insert_duration_ms_100</th>\n",
       "      <td>46649.0</td>\n",
       "    </tr>\n",
       "    <tr>\n",
       "      <th>test_insert_duration_ms_1000</th>\n",
       "      <td>28252.0</td>\n",
       "    </tr>\n",
       "    <tr>\n",
       "      <th>test_insert_duration_ms_10000</th>\n",
       "      <td>22461.0</td>\n",
       "    </tr>\n",
       "    <tr>\n",
       "      <th>test_insert_duration_ms_2000</th>\n",
       "      <td>29704.0</td>\n",
       "    </tr>\n",
       "    <tr>\n",
       "      <th>test_insert_duration_ms_20000</th>\n",
       "      <td>20570.0</td>\n",
       "    </tr>\n",
       "    <tr>\n",
       "      <th>test_insert_duration_ms_4000</th>\n",
       "      <td>25406.0</td>\n",
       "    </tr>\n",
       "    <tr>\n",
       "      <th>test_insert_duration_ms_500</th>\n",
       "      <td>34785.0</td>\n",
       "    </tr>\n",
       "    <tr>\n",
       "      <th rowspan=\"7\" valign=\"top\">e1ac5713-0015-4f4a-8fb7-e0fe6205f0b5</th>\n",
       "      <th rowspan=\"7\" valign=\"top\">example2</th>\n",
       "      <th>test_insert_duration_ms_100</th>\n",
       "      <td>53543.0</td>\n",
       "    </tr>\n",
       "    <tr>\n",
       "      <th>test_insert_duration_ms_1000</th>\n",
       "      <td>35024.0</td>\n",
       "    </tr>\n",
       "    <tr>\n",
       "      <th>test_insert_duration_ms_10000</th>\n",
       "      <td>25699.0</td>\n",
       "    </tr>\n",
       "    <tr>\n",
       "      <th>test_insert_duration_ms_2000</th>\n",
       "      <td>28448.0</td>\n",
       "    </tr>\n",
       "    <tr>\n",
       "      <th>test_insert_duration_ms_20000</th>\n",
       "      <td>26194.0</td>\n",
       "    </tr>\n",
       "    <tr>\n",
       "      <th>test_insert_duration_ms_4000</th>\n",
       "      <td>26419.0</td>\n",
       "    </tr>\n",
       "    <tr>\n",
       "      <th>test_insert_duration_ms_500</th>\n",
       "      <td>36087.0</td>\n",
       "    </tr>\n",
       "    <tr>\n",
       "      <th rowspan=\"7\" valign=\"top\">044fb2fb-2759-4ce7-a0a4-8a57fe039326</th>\n",
       "      <th rowspan=\"7\" valign=\"top\">normie</th>\n",
       "      <th>test_insert_duration_ms_100</th>\n",
       "      <td>95233.0</td>\n",
       "    </tr>\n",
       "    <tr>\n",
       "      <th>test_insert_duration_ms_1000</th>\n",
       "      <td>45569.0</td>\n",
       "    </tr>\n",
       "    <tr>\n",
       "      <th>test_insert_duration_ms_10000</th>\n",
       "      <td>32375.0</td>\n",
       "    </tr>\n",
       "    <tr>\n",
       "      <th>test_insert_duration_ms_2000</th>\n",
       "      <td>41519.0</td>\n",
       "    </tr>\n",
       "    <tr>\n",
       "      <th>test_insert_duration_ms_20000</th>\n",
       "      <td>31485.0</td>\n",
       "    </tr>\n",
       "    <tr>\n",
       "      <th>test_insert_duration_ms_4000</th>\n",
       "      <td>38940.0</td>\n",
       "    </tr>\n",
       "    <tr>\n",
       "      <th>test_insert_duration_ms_500</th>\n",
       "      <td>53742.0</td>\n",
       "    </tr>\n",
       "    <tr>\n",
       "      <th rowspan=\"7\" valign=\"top\">134b7978-3a9f-4ae6-bc80-765be10b32d4</th>\n",
       "      <th rowspan=\"7\" valign=\"top\">normie</th>\n",
       "      <th>test_insert_duration_ms_100</th>\n",
       "      <td>96432.0</td>\n",
       "    </tr>\n",
       "    <tr>\n",
       "      <th>test_insert_duration_ms_1000</th>\n",
       "      <td>45372.0</td>\n",
       "    </tr>\n",
       "    <tr>\n",
       "      <th>test_insert_duration_ms_10000</th>\n",
       "      <td>31688.0</td>\n",
       "    </tr>\n",
       "    <tr>\n",
       "      <th>test_insert_duration_ms_2000</th>\n",
       "      <td>42311.0</td>\n",
       "    </tr>\n",
       "    <tr>\n",
       "      <th>test_insert_duration_ms_20000</th>\n",
       "      <td>32201.0</td>\n",
       "    </tr>\n",
       "    <tr>\n",
       "      <th>test_insert_duration_ms_4000</th>\n",
       "      <td>37614.0</td>\n",
       "    </tr>\n",
       "    <tr>\n",
       "      <th>test_insert_duration_ms_500</th>\n",
       "      <td>53711.0</td>\n",
       "    </tr>\n",
       "    <tr>\n",
       "      <th rowspan=\"7\" valign=\"top\">81ab09e6-d227-4144-bea9-3473297e6117</th>\n",
       "      <th rowspan=\"7\" valign=\"top\">normie</th>\n",
       "      <th>test_insert_duration_ms_100</th>\n",
       "      <td>94325.0</td>\n",
       "    </tr>\n",
       "    <tr>\n",
       "      <th>test_insert_duration_ms_1000</th>\n",
       "      <td>44533.0</td>\n",
       "    </tr>\n",
       "    <tr>\n",
       "      <th>test_insert_duration_ms_10000</th>\n",
       "      <td>31210.0</td>\n",
       "    </tr>\n",
       "    <tr>\n",
       "      <th>test_insert_duration_ms_2000</th>\n",
       "      <td>44134.0</td>\n",
       "    </tr>\n",
       "    <tr>\n",
       "      <th>test_insert_duration_ms_20000</th>\n",
       "      <td>32283.0</td>\n",
       "    </tr>\n",
       "    <tr>\n",
       "      <th>test_insert_duration_ms_4000</th>\n",
       "      <td>36595.0</td>\n",
       "    </tr>\n",
       "    <tr>\n",
       "      <th>test_insert_duration_ms_500</th>\n",
       "      <td>52413.0</td>\n",
       "    </tr>\n",
       "  </tbody>\n",
       "</table>\n",
       "</div>"
      ],
      "text/plain": [
       "                                                                                      value\n",
       "_id                                  _implementation key                                   \n",
       "21a85b8f-605c-4523-9551-29a5920c34ab example         test_insert_duration_ms_100    50335.0\n",
       "                                                     test_insert_duration_ms_1000   35542.0\n",
       "                                                     test_insert_duration_ms_10000  36789.0\n",
       "                                                     test_insert_duration_ms_2000   34836.0\n",
       "                                                     test_insert_duration_ms_20000  35825.0\n",
       "                                                     test_insert_duration_ms_4000   32278.0\n",
       "                                                     test_insert_duration_ms_500    36011.0\n",
       "a3238eb6-5374-4e4a-bd8c-f6db7378d44b example         test_insert_duration_ms_100    53422.0\n",
       "                                                     test_insert_duration_ms_1000   38561.0\n",
       "                                                     test_insert_duration_ms_10000  37194.0\n",
       "                                                     test_insert_duration_ms_2000   41070.0\n",
       "                                                     test_insert_duration_ms_20000  40120.0\n",
       "                                                     test_insert_duration_ms_4000   36136.0\n",
       "                                                     test_insert_duration_ms_500    36368.0\n",
       "c6c3ece5-1472-4e3f-8b1a-3f09f2aae790 example         test_insert_duration_ms_100    47607.0\n",
       "                                                     test_insert_duration_ms_1000   27568.0\n",
       "                                                     test_insert_duration_ms_10000  30647.0\n",
       "                                                     test_insert_duration_ms_2000   31388.0\n",
       "                                                     test_insert_duration_ms_20000  34268.0\n",
       "                                                     test_insert_duration_ms_4000   27665.0\n",
       "                                                     test_insert_duration_ms_500    30987.0\n",
       "2ae68537-622c-4d6e-90f1-2d1e8bad70bb example2        test_insert_duration_ms_100    48146.0\n",
       "                                                     test_insert_duration_ms_1000   28956.0\n",
       "                                                     test_insert_duration_ms_10000  22290.0\n",
       "                                                     test_insert_duration_ms_2000   29690.0\n",
       "                                                     test_insert_duration_ms_20000  21801.0\n",
       "                                                     test_insert_duration_ms_4000   24507.0\n",
       "                                                     test_insert_duration_ms_500    33367.0\n",
       "4fa8bd5b-e953-4f3e-8191-5b4b4639d2c8 example2        test_insert_duration_ms_100    46649.0\n",
       "                                                     test_insert_duration_ms_1000   28252.0\n",
       "                                                     test_insert_duration_ms_10000  22461.0\n",
       "                                                     test_insert_duration_ms_2000   29704.0\n",
       "                                                     test_insert_duration_ms_20000  20570.0\n",
       "                                                     test_insert_duration_ms_4000   25406.0\n",
       "                                                     test_insert_duration_ms_500    34785.0\n",
       "e1ac5713-0015-4f4a-8fb7-e0fe6205f0b5 example2        test_insert_duration_ms_100    53543.0\n",
       "                                                     test_insert_duration_ms_1000   35024.0\n",
       "                                                     test_insert_duration_ms_10000  25699.0\n",
       "                                                     test_insert_duration_ms_2000   28448.0\n",
       "                                                     test_insert_duration_ms_20000  26194.0\n",
       "                                                     test_insert_duration_ms_4000   26419.0\n",
       "                                                     test_insert_duration_ms_500    36087.0\n",
       "044fb2fb-2759-4ce7-a0a4-8a57fe039326 normie          test_insert_duration_ms_100    95233.0\n",
       "                                                     test_insert_duration_ms_1000   45569.0\n",
       "                                                     test_insert_duration_ms_10000  32375.0\n",
       "                                                     test_insert_duration_ms_2000   41519.0\n",
       "                                                     test_insert_duration_ms_20000  31485.0\n",
       "                                                     test_insert_duration_ms_4000   38940.0\n",
       "                                                     test_insert_duration_ms_500    53742.0\n",
       "134b7978-3a9f-4ae6-bc80-765be10b32d4 normie          test_insert_duration_ms_100    96432.0\n",
       "                                                     test_insert_duration_ms_1000   45372.0\n",
       "                                                     test_insert_duration_ms_10000  31688.0\n",
       "                                                     test_insert_duration_ms_2000   42311.0\n",
       "                                                     test_insert_duration_ms_20000  32201.0\n",
       "                                                     test_insert_duration_ms_4000   37614.0\n",
       "                                                     test_insert_duration_ms_500    53711.0\n",
       "81ab09e6-d227-4144-bea9-3473297e6117 normie          test_insert_duration_ms_100    94325.0\n",
       "                                                     test_insert_duration_ms_1000   44533.0\n",
       "                                                     test_insert_duration_ms_10000  31210.0\n",
       "                                                     test_insert_duration_ms_2000   44134.0\n",
       "                                                     test_insert_duration_ms_20000  32283.0\n",
       "                                                     test_insert_duration_ms_4000   36595.0\n",
       "                                                     test_insert_duration_ms_500    52413.0"
      ]
     },
     "execution_count": 18,
     "metadata": {},
     "output_type": "execute_result"
    }
   ],
   "source": [
    "# Set the display option to print all rows\n",
    "pd.set_option('display.max_rows', None)\n",
    "\n",
    "# Set the display option to print all columns\n",
    "pd.set_option('display.max_columns', None)\n",
    "\n",
    "mask = combined_df['key'].str.contains('insert_duration')\n",
    "pd.DataFrame(combined_df[mask].groupby(by=[\"_id\",\"_implementation\",\"key\"])[\"value\"].sum()).sort_values(by=[\"_implementation\", \"_id\"])"
   ]
  },
  {
   "cell_type": "code",
   "execution_count": 19,
   "id": "90ead721",
   "metadata": {},
   "outputs": [
    {
     "data": {
      "text/html": [
       "<div>\n",
       "<style scoped>\n",
       "    .dataframe tbody tr th:only-of-type {\n",
       "        vertical-align: middle;\n",
       "    }\n",
       "\n",
       "    .dataframe tbody tr th {\n",
       "        vertical-align: top;\n",
       "    }\n",
       "\n",
       "    .dataframe thead th {\n",
       "        text-align: right;\n",
       "    }\n",
       "</style>\n",
       "<table border=\"1\" class=\"dataframe\">\n",
       "  <thead>\n",
       "    <tr style=\"text-align: right;\">\n",
       "      <th></th>\n",
       "      <th></th>\n",
       "      <th></th>\n",
       "      <th>value</th>\n",
       "    </tr>\n",
       "    <tr>\n",
       "      <th>_id</th>\n",
       "      <th>_implementation</th>\n",
       "      <th>key</th>\n",
       "      <th></th>\n",
       "    </tr>\n",
       "  </thead>\n",
       "  <tbody>\n",
       "    <tr>\n",
       "      <th rowspan=\"7\" valign=\"top\">21a85b8f-605c-4523-9551-29a5920c34ab</th>\n",
       "      <th rowspan=\"7\" valign=\"top\">example</th>\n",
       "      <th>test_insert_duration_ms_100</th>\n",
       "      <td>50.335</td>\n",
       "    </tr>\n",
       "    <tr>\n",
       "      <th>test_insert_duration_ms_1000</th>\n",
       "      <td>355.420</td>\n",
       "    </tr>\n",
       "    <tr>\n",
       "      <th>test_insert_duration_ms_10000</th>\n",
       "      <td>3678.900</td>\n",
       "    </tr>\n",
       "    <tr>\n",
       "      <th>test_insert_duration_ms_2000</th>\n",
       "      <td>696.720</td>\n",
       "    </tr>\n",
       "    <tr>\n",
       "      <th>test_insert_duration_ms_20000</th>\n",
       "      <td>7165.000</td>\n",
       "    </tr>\n",
       "    <tr>\n",
       "      <th>test_insert_duration_ms_4000</th>\n",
       "      <td>1291.120</td>\n",
       "    </tr>\n",
       "    <tr>\n",
       "      <th>test_insert_duration_ms_500</th>\n",
       "      <td>180.055</td>\n",
       "    </tr>\n",
       "    <tr>\n",
       "      <th rowspan=\"7\" valign=\"top\">a3238eb6-5374-4e4a-bd8c-f6db7378d44b</th>\n",
       "      <th rowspan=\"7\" valign=\"top\">example</th>\n",
       "      <th>test_insert_duration_ms_100</th>\n",
       "      <td>53.422</td>\n",
       "    </tr>\n",
       "    <tr>\n",
       "      <th>test_insert_duration_ms_1000</th>\n",
       "      <td>385.610</td>\n",
       "    </tr>\n",
       "    <tr>\n",
       "      <th>test_insert_duration_ms_10000</th>\n",
       "      <td>3719.400</td>\n",
       "    </tr>\n",
       "    <tr>\n",
       "      <th>test_insert_duration_ms_2000</th>\n",
       "      <td>821.400</td>\n",
       "    </tr>\n",
       "    <tr>\n",
       "      <th>test_insert_duration_ms_20000</th>\n",
       "      <td>8024.000</td>\n",
       "    </tr>\n",
       "    <tr>\n",
       "      <th>test_insert_duration_ms_4000</th>\n",
       "      <td>1445.440</td>\n",
       "    </tr>\n",
       "    <tr>\n",
       "      <th>test_insert_duration_ms_500</th>\n",
       "      <td>181.840</td>\n",
       "    </tr>\n",
       "    <tr>\n",
       "      <th rowspan=\"7\" valign=\"top\">c6c3ece5-1472-4e3f-8b1a-3f09f2aae790</th>\n",
       "      <th rowspan=\"7\" valign=\"top\">example</th>\n",
       "      <th>test_insert_duration_ms_100</th>\n",
       "      <td>47.607</td>\n",
       "    </tr>\n",
       "    <tr>\n",
       "      <th>test_insert_duration_ms_1000</th>\n",
       "      <td>275.680</td>\n",
       "    </tr>\n",
       "    <tr>\n",
       "      <th>test_insert_duration_ms_10000</th>\n",
       "      <td>3064.700</td>\n",
       "    </tr>\n",
       "    <tr>\n",
       "      <th>test_insert_duration_ms_2000</th>\n",
       "      <td>627.760</td>\n",
       "    </tr>\n",
       "    <tr>\n",
       "      <th>test_insert_duration_ms_20000</th>\n",
       "      <td>6853.600</td>\n",
       "    </tr>\n",
       "    <tr>\n",
       "      <th>test_insert_duration_ms_4000</th>\n",
       "      <td>1106.600</td>\n",
       "    </tr>\n",
       "    <tr>\n",
       "      <th>test_insert_duration_ms_500</th>\n",
       "      <td>154.935</td>\n",
       "    </tr>\n",
       "    <tr>\n",
       "      <th rowspan=\"7\" valign=\"top\">2ae68537-622c-4d6e-90f1-2d1e8bad70bb</th>\n",
       "      <th rowspan=\"7\" valign=\"top\">example2</th>\n",
       "      <th>test_insert_duration_ms_100</th>\n",
       "      <td>48.146</td>\n",
       "    </tr>\n",
       "    <tr>\n",
       "      <th>test_insert_duration_ms_1000</th>\n",
       "      <td>289.560</td>\n",
       "    </tr>\n",
       "    <tr>\n",
       "      <th>test_insert_duration_ms_10000</th>\n",
       "      <td>2229.000</td>\n",
       "    </tr>\n",
       "    <tr>\n",
       "      <th>test_insert_duration_ms_2000</th>\n",
       "      <td>593.800</td>\n",
       "    </tr>\n",
       "    <tr>\n",
       "      <th>test_insert_duration_ms_20000</th>\n",
       "      <td>4360.200</td>\n",
       "    </tr>\n",
       "    <tr>\n",
       "      <th>test_insert_duration_ms_4000</th>\n",
       "      <td>980.280</td>\n",
       "    </tr>\n",
       "    <tr>\n",
       "      <th>test_insert_duration_ms_500</th>\n",
       "      <td>166.835</td>\n",
       "    </tr>\n",
       "    <tr>\n",
       "      <th rowspan=\"7\" valign=\"top\">4fa8bd5b-e953-4f3e-8191-5b4b4639d2c8</th>\n",
       "      <th rowspan=\"7\" valign=\"top\">example2</th>\n",
       "      <th>test_insert_duration_ms_100</th>\n",
       "      <td>46.649</td>\n",
       "    </tr>\n",
       "    <tr>\n",
       "      <th>test_insert_duration_ms_1000</th>\n",
       "      <td>282.520</td>\n",
       "    </tr>\n",
       "    <tr>\n",
       "      <th>test_insert_duration_ms_10000</th>\n",
       "      <td>2246.100</td>\n",
       "    </tr>\n",
       "    <tr>\n",
       "      <th>test_insert_duration_ms_2000</th>\n",
       "      <td>594.080</td>\n",
       "    </tr>\n",
       "    <tr>\n",
       "      <th>test_insert_duration_ms_20000</th>\n",
       "      <td>4114.000</td>\n",
       "    </tr>\n",
       "    <tr>\n",
       "      <th>test_insert_duration_ms_4000</th>\n",
       "      <td>1016.240</td>\n",
       "    </tr>\n",
       "    <tr>\n",
       "      <th>test_insert_duration_ms_500</th>\n",
       "      <td>173.925</td>\n",
       "    </tr>\n",
       "    <tr>\n",
       "      <th rowspan=\"7\" valign=\"top\">e1ac5713-0015-4f4a-8fb7-e0fe6205f0b5</th>\n",
       "      <th rowspan=\"7\" valign=\"top\">example2</th>\n",
       "      <th>test_insert_duration_ms_100</th>\n",
       "      <td>53.543</td>\n",
       "    </tr>\n",
       "    <tr>\n",
       "      <th>test_insert_duration_ms_1000</th>\n",
       "      <td>350.240</td>\n",
       "    </tr>\n",
       "    <tr>\n",
       "      <th>test_insert_duration_ms_10000</th>\n",
       "      <td>2569.900</td>\n",
       "    </tr>\n",
       "    <tr>\n",
       "      <th>test_insert_duration_ms_2000</th>\n",
       "      <td>568.960</td>\n",
       "    </tr>\n",
       "    <tr>\n",
       "      <th>test_insert_duration_ms_20000</th>\n",
       "      <td>5238.800</td>\n",
       "    </tr>\n",
       "    <tr>\n",
       "      <th>test_insert_duration_ms_4000</th>\n",
       "      <td>1056.760</td>\n",
       "    </tr>\n",
       "    <tr>\n",
       "      <th>test_insert_duration_ms_500</th>\n",
       "      <td>180.435</td>\n",
       "    </tr>\n",
       "    <tr>\n",
       "      <th rowspan=\"7\" valign=\"top\">044fb2fb-2759-4ce7-a0a4-8a57fe039326</th>\n",
       "      <th rowspan=\"7\" valign=\"top\">normie</th>\n",
       "      <th>test_insert_duration_ms_100</th>\n",
       "      <td>95.233</td>\n",
       "    </tr>\n",
       "    <tr>\n",
       "      <th>test_insert_duration_ms_1000</th>\n",
       "      <td>455.690</td>\n",
       "    </tr>\n",
       "    <tr>\n",
       "      <th>test_insert_duration_ms_10000</th>\n",
       "      <td>3237.500</td>\n",
       "    </tr>\n",
       "    <tr>\n",
       "      <th>test_insert_duration_ms_2000</th>\n",
       "      <td>830.380</td>\n",
       "    </tr>\n",
       "    <tr>\n",
       "      <th>test_insert_duration_ms_20000</th>\n",
       "      <td>6297.000</td>\n",
       "    </tr>\n",
       "    <tr>\n",
       "      <th>test_insert_duration_ms_4000</th>\n",
       "      <td>1557.600</td>\n",
       "    </tr>\n",
       "    <tr>\n",
       "      <th>test_insert_duration_ms_500</th>\n",
       "      <td>268.710</td>\n",
       "    </tr>\n",
       "    <tr>\n",
       "      <th rowspan=\"7\" valign=\"top\">134b7978-3a9f-4ae6-bc80-765be10b32d4</th>\n",
       "      <th rowspan=\"7\" valign=\"top\">normie</th>\n",
       "      <th>test_insert_duration_ms_100</th>\n",
       "      <td>96.432</td>\n",
       "    </tr>\n",
       "    <tr>\n",
       "      <th>test_insert_duration_ms_1000</th>\n",
       "      <td>453.720</td>\n",
       "    </tr>\n",
       "    <tr>\n",
       "      <th>test_insert_duration_ms_10000</th>\n",
       "      <td>3168.800</td>\n",
       "    </tr>\n",
       "    <tr>\n",
       "      <th>test_insert_duration_ms_2000</th>\n",
       "      <td>846.220</td>\n",
       "    </tr>\n",
       "    <tr>\n",
       "      <th>test_insert_duration_ms_20000</th>\n",
       "      <td>6440.200</td>\n",
       "    </tr>\n",
       "    <tr>\n",
       "      <th>test_insert_duration_ms_4000</th>\n",
       "      <td>1504.560</td>\n",
       "    </tr>\n",
       "    <tr>\n",
       "      <th>test_insert_duration_ms_500</th>\n",
       "      <td>268.555</td>\n",
       "    </tr>\n",
       "    <tr>\n",
       "      <th rowspan=\"7\" valign=\"top\">81ab09e6-d227-4144-bea9-3473297e6117</th>\n",
       "      <th rowspan=\"7\" valign=\"top\">normie</th>\n",
       "      <th>test_insert_duration_ms_100</th>\n",
       "      <td>94.325</td>\n",
       "    </tr>\n",
       "    <tr>\n",
       "      <th>test_insert_duration_ms_1000</th>\n",
       "      <td>445.330</td>\n",
       "    </tr>\n",
       "    <tr>\n",
       "      <th>test_insert_duration_ms_10000</th>\n",
       "      <td>3121.000</td>\n",
       "    </tr>\n",
       "    <tr>\n",
       "      <th>test_insert_duration_ms_2000</th>\n",
       "      <td>882.680</td>\n",
       "    </tr>\n",
       "    <tr>\n",
       "      <th>test_insert_duration_ms_20000</th>\n",
       "      <td>6456.600</td>\n",
       "    </tr>\n",
       "    <tr>\n",
       "      <th>test_insert_duration_ms_4000</th>\n",
       "      <td>1463.800</td>\n",
       "    </tr>\n",
       "    <tr>\n",
       "      <th>test_insert_duration_ms_500</th>\n",
       "      <td>262.065</td>\n",
       "    </tr>\n",
       "  </tbody>\n",
       "</table>\n",
       "</div>"
      ],
      "text/plain": [
       "                                                                                       value\n",
       "_id                                  _implementation key                                    \n",
       "21a85b8f-605c-4523-9551-29a5920c34ab example         test_insert_duration_ms_100      50.335\n",
       "                                                     test_insert_duration_ms_1000    355.420\n",
       "                                                     test_insert_duration_ms_10000  3678.900\n",
       "                                                     test_insert_duration_ms_2000    696.720\n",
       "                                                     test_insert_duration_ms_20000  7165.000\n",
       "                                                     test_insert_duration_ms_4000   1291.120\n",
       "                                                     test_insert_duration_ms_500     180.055\n",
       "a3238eb6-5374-4e4a-bd8c-f6db7378d44b example         test_insert_duration_ms_100      53.422\n",
       "                                                     test_insert_duration_ms_1000    385.610\n",
       "                                                     test_insert_duration_ms_10000  3719.400\n",
       "                                                     test_insert_duration_ms_2000    821.400\n",
       "                                                     test_insert_duration_ms_20000  8024.000\n",
       "                                                     test_insert_duration_ms_4000   1445.440\n",
       "                                                     test_insert_duration_ms_500     181.840\n",
       "c6c3ece5-1472-4e3f-8b1a-3f09f2aae790 example         test_insert_duration_ms_100      47.607\n",
       "                                                     test_insert_duration_ms_1000    275.680\n",
       "                                                     test_insert_duration_ms_10000  3064.700\n",
       "                                                     test_insert_duration_ms_2000    627.760\n",
       "                                                     test_insert_duration_ms_20000  6853.600\n",
       "                                                     test_insert_duration_ms_4000   1106.600\n",
       "                                                     test_insert_duration_ms_500     154.935\n",
       "2ae68537-622c-4d6e-90f1-2d1e8bad70bb example2        test_insert_duration_ms_100      48.146\n",
       "                                                     test_insert_duration_ms_1000    289.560\n",
       "                                                     test_insert_duration_ms_10000  2229.000\n",
       "                                                     test_insert_duration_ms_2000    593.800\n",
       "                                                     test_insert_duration_ms_20000  4360.200\n",
       "                                                     test_insert_duration_ms_4000    980.280\n",
       "                                                     test_insert_duration_ms_500     166.835\n",
       "4fa8bd5b-e953-4f3e-8191-5b4b4639d2c8 example2        test_insert_duration_ms_100      46.649\n",
       "                                                     test_insert_duration_ms_1000    282.520\n",
       "                                                     test_insert_duration_ms_10000  2246.100\n",
       "                                                     test_insert_duration_ms_2000    594.080\n",
       "                                                     test_insert_duration_ms_20000  4114.000\n",
       "                                                     test_insert_duration_ms_4000   1016.240\n",
       "                                                     test_insert_duration_ms_500     173.925\n",
       "e1ac5713-0015-4f4a-8fb7-e0fe6205f0b5 example2        test_insert_duration_ms_100      53.543\n",
       "                                                     test_insert_duration_ms_1000    350.240\n",
       "                                                     test_insert_duration_ms_10000  2569.900\n",
       "                                                     test_insert_duration_ms_2000    568.960\n",
       "                                                     test_insert_duration_ms_20000  5238.800\n",
       "                                                     test_insert_duration_ms_4000   1056.760\n",
       "                                                     test_insert_duration_ms_500     180.435\n",
       "044fb2fb-2759-4ce7-a0a4-8a57fe039326 normie          test_insert_duration_ms_100      95.233\n",
       "                                                     test_insert_duration_ms_1000    455.690\n",
       "                                                     test_insert_duration_ms_10000  3237.500\n",
       "                                                     test_insert_duration_ms_2000    830.380\n",
       "                                                     test_insert_duration_ms_20000  6297.000\n",
       "                                                     test_insert_duration_ms_4000   1557.600\n",
       "                                                     test_insert_duration_ms_500     268.710\n",
       "134b7978-3a9f-4ae6-bc80-765be10b32d4 normie          test_insert_duration_ms_100      96.432\n",
       "                                                     test_insert_duration_ms_1000    453.720\n",
       "                                                     test_insert_duration_ms_10000  3168.800\n",
       "                                                     test_insert_duration_ms_2000    846.220\n",
       "                                                     test_insert_duration_ms_20000  6440.200\n",
       "                                                     test_insert_duration_ms_4000   1504.560\n",
       "                                                     test_insert_duration_ms_500     268.555\n",
       "81ab09e6-d227-4144-bea9-3473297e6117 normie          test_insert_duration_ms_100      94.325\n",
       "                                                     test_insert_duration_ms_1000    445.330\n",
       "                                                     test_insert_duration_ms_10000  3121.000\n",
       "                                                     test_insert_duration_ms_2000    882.680\n",
       "                                                     test_insert_duration_ms_20000  6456.600\n",
       "                                                     test_insert_duration_ms_4000   1463.800\n",
       "                                                     test_insert_duration_ms_500     262.065"
      ]
     },
     "execution_count": 19,
     "metadata": {},
     "output_type": "execute_result"
    }
   ],
   "source": [
    "mask = combined_df['key'].str.contains('insert_duration')\n",
    "pd.DataFrame(combined_df[mask].groupby(by=[\"_id\",\"_implementation\",\"key\"])[\"value\"].mean()).sort_values(by=[\"_implementation\", \"_id\"])"
   ]
  },
  {
   "cell_type": "code",
   "execution_count": 20,
   "id": "e9fb0f58",
   "metadata": {},
   "outputs": [
    {
     "data": {
      "text/html": [
       "<div>\n",
       "<style scoped>\n",
       "    .dataframe tbody tr th:only-of-type {\n",
       "        vertical-align: middle;\n",
       "    }\n",
       "\n",
       "    .dataframe tbody tr th {\n",
       "        vertical-align: top;\n",
       "    }\n",
       "\n",
       "    .dataframe thead th {\n",
       "        text-align: right;\n",
       "    }\n",
       "</style>\n",
       "<table border=\"1\" class=\"dataframe\">\n",
       "  <thead>\n",
       "    <tr style=\"text-align: right;\">\n",
       "      <th></th>\n",
       "      <th>_id</th>\n",
       "      <th>_implementation</th>\n",
       "      <th>test_insert_duration_ms_100</th>\n",
       "      <th>test_insert_duration_ms_1000</th>\n",
       "      <th>test_insert_duration_ms_10000</th>\n",
       "      <th>test_insert_duration_ms_2000</th>\n",
       "      <th>test_insert_duration_ms_20000</th>\n",
       "      <th>test_insert_duration_ms_4000</th>\n",
       "      <th>test_insert_duration_ms_500</th>\n",
       "    </tr>\n",
       "  </thead>\n",
       "  <tbody>\n",
       "    <tr>\n",
       "      <th>0</th>\n",
       "      <td>044fb2fb-2759-4ce7-a0a4-8a57fe039326</td>\n",
       "      <td>normie</td>\n",
       "      <td>95.233</td>\n",
       "      <td>455.69</td>\n",
       "      <td>3237.5</td>\n",
       "      <td>830.38</td>\n",
       "      <td>6297.0</td>\n",
       "      <td>1557.60</td>\n",
       "      <td>268.710</td>\n",
       "    </tr>\n",
       "    <tr>\n",
       "      <th>1</th>\n",
       "      <td>134b7978-3a9f-4ae6-bc80-765be10b32d4</td>\n",
       "      <td>normie</td>\n",
       "      <td>96.432</td>\n",
       "      <td>453.72</td>\n",
       "      <td>3168.8</td>\n",
       "      <td>846.22</td>\n",
       "      <td>6440.2</td>\n",
       "      <td>1504.56</td>\n",
       "      <td>268.555</td>\n",
       "    </tr>\n",
       "    <tr>\n",
       "      <th>2</th>\n",
       "      <td>21a85b8f-605c-4523-9551-29a5920c34ab</td>\n",
       "      <td>example</td>\n",
       "      <td>50.335</td>\n",
       "      <td>355.42</td>\n",
       "      <td>3678.9</td>\n",
       "      <td>696.72</td>\n",
       "      <td>7165.0</td>\n",
       "      <td>1291.12</td>\n",
       "      <td>180.055</td>\n",
       "    </tr>\n",
       "    <tr>\n",
       "      <th>3</th>\n",
       "      <td>2ae68537-622c-4d6e-90f1-2d1e8bad70bb</td>\n",
       "      <td>example2</td>\n",
       "      <td>48.146</td>\n",
       "      <td>289.56</td>\n",
       "      <td>2229.0</td>\n",
       "      <td>593.80</td>\n",
       "      <td>4360.2</td>\n",
       "      <td>980.28</td>\n",
       "      <td>166.835</td>\n",
       "    </tr>\n",
       "    <tr>\n",
       "      <th>4</th>\n",
       "      <td>4fa8bd5b-e953-4f3e-8191-5b4b4639d2c8</td>\n",
       "      <td>example2</td>\n",
       "      <td>46.649</td>\n",
       "      <td>282.52</td>\n",
       "      <td>2246.1</td>\n",
       "      <td>594.08</td>\n",
       "      <td>4114.0</td>\n",
       "      <td>1016.24</td>\n",
       "      <td>173.925</td>\n",
       "    </tr>\n",
       "    <tr>\n",
       "      <th>5</th>\n",
       "      <td>81ab09e6-d227-4144-bea9-3473297e6117</td>\n",
       "      <td>normie</td>\n",
       "      <td>94.325</td>\n",
       "      <td>445.33</td>\n",
       "      <td>3121.0</td>\n",
       "      <td>882.68</td>\n",
       "      <td>6456.6</td>\n",
       "      <td>1463.80</td>\n",
       "      <td>262.065</td>\n",
       "    </tr>\n",
       "    <tr>\n",
       "      <th>6</th>\n",
       "      <td>a3238eb6-5374-4e4a-bd8c-f6db7378d44b</td>\n",
       "      <td>example</td>\n",
       "      <td>53.422</td>\n",
       "      <td>385.61</td>\n",
       "      <td>3719.4</td>\n",
       "      <td>821.40</td>\n",
       "      <td>8024.0</td>\n",
       "      <td>1445.44</td>\n",
       "      <td>181.840</td>\n",
       "    </tr>\n",
       "    <tr>\n",
       "      <th>7</th>\n",
       "      <td>c6c3ece5-1472-4e3f-8b1a-3f09f2aae790</td>\n",
       "      <td>example</td>\n",
       "      <td>47.607</td>\n",
       "      <td>275.68</td>\n",
       "      <td>3064.7</td>\n",
       "      <td>627.76</td>\n",
       "      <td>6853.6</td>\n",
       "      <td>1106.60</td>\n",
       "      <td>154.935</td>\n",
       "    </tr>\n",
       "    <tr>\n",
       "      <th>8</th>\n",
       "      <td>e1ac5713-0015-4f4a-8fb7-e0fe6205f0b5</td>\n",
       "      <td>example2</td>\n",
       "      <td>53.543</td>\n",
       "      <td>350.24</td>\n",
       "      <td>2569.9</td>\n",
       "      <td>568.96</td>\n",
       "      <td>5238.8</td>\n",
       "      <td>1056.76</td>\n",
       "      <td>180.435</td>\n",
       "    </tr>\n",
       "  </tbody>\n",
       "</table>\n",
       "</div>"
      ],
      "text/plain": [
       "                                    _id _implementation  \\\n",
       "0  044fb2fb-2759-4ce7-a0a4-8a57fe039326          normie   \n",
       "1  134b7978-3a9f-4ae6-bc80-765be10b32d4          normie   \n",
       "2  21a85b8f-605c-4523-9551-29a5920c34ab         example   \n",
       "3  2ae68537-622c-4d6e-90f1-2d1e8bad70bb        example2   \n",
       "4  4fa8bd5b-e953-4f3e-8191-5b4b4639d2c8        example2   \n",
       "5  81ab09e6-d227-4144-bea9-3473297e6117          normie   \n",
       "6  a3238eb6-5374-4e4a-bd8c-f6db7378d44b         example   \n",
       "7  c6c3ece5-1472-4e3f-8b1a-3f09f2aae790         example   \n",
       "8  e1ac5713-0015-4f4a-8fb7-e0fe6205f0b5        example2   \n",
       "\n",
       "   test_insert_duration_ms_100  test_insert_duration_ms_1000  \\\n",
       "0                       95.233                        455.69   \n",
       "1                       96.432                        453.72   \n",
       "2                       50.335                        355.42   \n",
       "3                       48.146                        289.56   \n",
       "4                       46.649                        282.52   \n",
       "5                       94.325                        445.33   \n",
       "6                       53.422                        385.61   \n",
       "7                       47.607                        275.68   \n",
       "8                       53.543                        350.24   \n",
       "\n",
       "   test_insert_duration_ms_10000  test_insert_duration_ms_2000  \\\n",
       "0                         3237.5                        830.38   \n",
       "1                         3168.8                        846.22   \n",
       "2                         3678.9                        696.72   \n",
       "3                         2229.0                        593.80   \n",
       "4                         2246.1                        594.08   \n",
       "5                         3121.0                        882.68   \n",
       "6                         3719.4                        821.40   \n",
       "7                         3064.7                        627.76   \n",
       "8                         2569.9                        568.96   \n",
       "\n",
       "   test_insert_duration_ms_20000  test_insert_duration_ms_4000  \\\n",
       "0                         6297.0                       1557.60   \n",
       "1                         6440.2                       1504.56   \n",
       "2                         7165.0                       1291.12   \n",
       "3                         4360.2                        980.28   \n",
       "4                         4114.0                       1016.24   \n",
       "5                         6456.6                       1463.80   \n",
       "6                         8024.0                       1445.44   \n",
       "7                         6853.6                       1106.60   \n",
       "8                         5238.8                       1056.76   \n",
       "\n",
       "   test_insert_duration_ms_500  \n",
       "0                      268.710  \n",
       "1                      268.555  \n",
       "2                      180.055  \n",
       "3                      166.835  \n",
       "4                      173.925  \n",
       "5                      262.065  \n",
       "6                      181.840  \n",
       "7                      154.935  \n",
       "8                      180.435  "
      ]
     },
     "execution_count": 20,
     "metadata": {},
     "output_type": "execute_result"
    }
   ],
   "source": [
    "import pandas as pd\n",
    "\n",
    "# Assuming combined_df is already defined and contains the necessary data\n",
    "\n",
    "# Step 1: Create a mask to filter rows where 'key' contains 'insert_duration'\n",
    "mask = combined_df['key'].str.contains('insert_duration')\n",
    "\n",
    "# Step 2: Filter the DataFrame using the mask\n",
    "filtered_df = combined_df[mask]\n",
    "\n",
    "# Step 3: Group by '_id', '_implementation', and 'key', then calculate the mean of 'value'\n",
    "grouped_df = filtered_df.groupby(by=[\"_id\", \"_implementation\", \"key\"])[\"value\"].mean().reset_index()\n",
    "\n",
    "# Step 4: Pivot the DataFrame to make 'key' values as columns\n",
    "pivot_df = grouped_df.pivot_table(index=['_id', '_implementation'], columns='key', values='value').reset_index()\n",
    "\n",
    "# Step 5: Flatten the MultiIndex columns\n",
    "pivot_df.columns.name = None\n",
    "pivot_df.columns = [f'{col}' if col not in ['_id', '_implementation'] else col for col in pivot_df.columns]\n",
    "\n",
    "# Display the result\n",
    "pivot_df\n"
   ]
  },
  {
   "cell_type": "code",
   "execution_count": 21,
   "id": "6fa401da",
   "metadata": {},
   "outputs": [
    {
     "data": {
      "text/html": [
       "<div>\n",
       "<style scoped>\n",
       "    .dataframe tbody tr th:only-of-type {\n",
       "        vertical-align: middle;\n",
       "    }\n",
       "\n",
       "    .dataframe tbody tr th {\n",
       "        vertical-align: top;\n",
       "    }\n",
       "\n",
       "    .dataframe thead th {\n",
       "        text-align: right;\n",
       "    }\n",
       "</style>\n",
       "<table border=\"1\" class=\"dataframe\">\n",
       "  <thead>\n",
       "    <tr style=\"text-align: right;\">\n",
       "      <th></th>\n",
       "      <th>_id</th>\n",
       "      <th>_implementation</th>\n",
       "      <th>avg_insert_duration_ms</th>\n",
       "      <th>batch_size</th>\n",
       "      <th>imp_run</th>\n",
       "    </tr>\n",
       "  </thead>\n",
       "  <tbody>\n",
       "    <tr>\n",
       "      <th>0</th>\n",
       "      <td>044fb2fb-2759-4ce7-a0a4-8a57fe039326</td>\n",
       "      <td>normie</td>\n",
       "      <td>95.233</td>\n",
       "      <td>100</td>\n",
       "      <td>normie-9326</td>\n",
       "    </tr>\n",
       "    <tr>\n",
       "      <th>1</th>\n",
       "      <td>044fb2fb-2759-4ce7-a0a4-8a57fe039326</td>\n",
       "      <td>normie</td>\n",
       "      <td>455.690</td>\n",
       "      <td>1000</td>\n",
       "      <td>normie-9326</td>\n",
       "    </tr>\n",
       "    <tr>\n",
       "      <th>2</th>\n",
       "      <td>044fb2fb-2759-4ce7-a0a4-8a57fe039326</td>\n",
       "      <td>normie</td>\n",
       "      <td>3237.500</td>\n",
       "      <td>10000</td>\n",
       "      <td>normie-9326</td>\n",
       "    </tr>\n",
       "    <tr>\n",
       "      <th>3</th>\n",
       "      <td>044fb2fb-2759-4ce7-a0a4-8a57fe039326</td>\n",
       "      <td>normie</td>\n",
       "      <td>830.380</td>\n",
       "      <td>2000</td>\n",
       "      <td>normie-9326</td>\n",
       "    </tr>\n",
       "    <tr>\n",
       "      <th>4</th>\n",
       "      <td>044fb2fb-2759-4ce7-a0a4-8a57fe039326</td>\n",
       "      <td>normie</td>\n",
       "      <td>6297.000</td>\n",
       "      <td>20000</td>\n",
       "      <td>normie-9326</td>\n",
       "    </tr>\n",
       "  </tbody>\n",
       "</table>\n",
       "</div>"
      ],
      "text/plain": [
       "                                    _id _implementation  \\\n",
       "0  044fb2fb-2759-4ce7-a0a4-8a57fe039326          normie   \n",
       "1  044fb2fb-2759-4ce7-a0a4-8a57fe039326          normie   \n",
       "2  044fb2fb-2759-4ce7-a0a4-8a57fe039326          normie   \n",
       "3  044fb2fb-2759-4ce7-a0a4-8a57fe039326          normie   \n",
       "4  044fb2fb-2759-4ce7-a0a4-8a57fe039326          normie   \n",
       "\n",
       "   avg_insert_duration_ms  batch_size      imp_run  \n",
       "0                  95.233         100  normie-9326  \n",
       "1                 455.690        1000  normie-9326  \n",
       "2                3237.500       10000  normie-9326  \n",
       "3                 830.380        2000  normie-9326  \n",
       "4                6297.000       20000  normie-9326  "
      ]
     },
     "execution_count": 21,
     "metadata": {},
     "output_type": "execute_result"
    }
   ],
   "source": [
    "mask = combined_df['key'].str.contains('insert_duration')\n",
    "df_avg_insert = pd.DataFrame(combined_df[mask].groupby(by=[\"_id\",\"_implementation\",\"key\"])[\"value\"].mean()).reset_index()\n",
    "df_avg_insert[\"batch_size\"] = [int(k.split(\"test_insert_duration_ms_\")[1]) for k in df_avg_insert.key.values]\n",
    "df_avg_insert[\"imp_run\"] = df_avg_insert._implementation + \"-\" + df_avg_insert._id.str[-4:] \n",
    "df_avg_insert.rename(columns={\"value\":\"avg_insert_duration_ms\"}, inplace=True)\n",
    "df_avg_insert.drop(\"key\", axis=1, inplace=True)\n",
    "df_avg_insert.head()"
   ]
  },
  {
   "cell_type": "code",
   "execution_count": 22,
   "id": "7424b504",
   "metadata": {},
   "outputs": [
    {
     "name": "stdout",
     "output_type": "stream",
     "text": [
      "Note: you may need to restart the kernel to use updated packages.\n"
     ]
    },
    {
     "data": {
      "image/png": "[encoded data removed]",
      "text/plain": [
       "<Figure size 1200x600 with 1 Axes>"
      ]
     },
     "metadata": {},
     "output_type": "display_data"
    }
   ],
   "source": [
    "%pip install -q matplotlib\n",
    "import matplotlib.pyplot as plt  \n",
    "\n",
    "# Plotting\n",
    "plt.figure(figsize=(12, 6))\n",
    "\n",
    "# Iterate over each unique imp_run to plot a separate line\n",
    "imp_runs = df_avg_insert['imp_run'].unique()\n",
    "for imp_run in imp_runs:\n",
    "    subset = df_avg_insert[df_avg_insert['imp_run'] == imp_run]\n",
    "    plt.plot(subset['batch_size'], subset['avg_insert_duration_ms'], marker='o', linestyle='-', label=imp_run)\n",
    "\n",
    "# Set labels and title\n",
    "plt.xlabel('Number of Rows in Batch')\n",
    "plt.ylabel('Average Insert Duration (ms)')\n",
    "plt.title('Average Insert Duration vs. Batch Size for Different Implementations')\n",
    "plt.legend(title='Implementation Run')\n",
    "\n",
    "# Show grid and plot\n",
    "plt.grid(True)\n",
    "plt.tight_layout()\n",
    "plt.show()"
   ]
  },
  {
   "cell_type": "code",
   "execution_count": 23,
   "id": "5862a628",
   "metadata": {},
   "outputs": [
    {
     "name": "stdout",
     "output_type": "stream",
     "text": [
      "Note: you may need to restart the kernel to use updated packages.\n"
     ]
    },
    {
     "data": {
      "application/vnd.plotly.v1+json": {
       "config": {
        "plotlyServerURL": "https://plot.ly"
       },
       "data": [
        {
         "mode": "lines+markers",
         "name": "normie-9326",
         "type": "scatter",
         "x": [
          100,
          1000,
          10000,
          2000,
          20000,
          4000,
          500
         ],
         "y": [
          95.233,
          455.69,
          3237.5,
          830.38,
          6297,
          1557.6,
          268.71
         ]
        },
        {
         "mode": "lines+markers",
         "name": "normie-32d4",
         "type": "scatter",
         "x": [
          100,
          1000,
          10000,
          2000,
          20000,
          4000,
          500
         ],
         "y": [
          96.432,
          453.72,
          3168.8,
          846.22,
          6440.2,
          1504.56,
          268.555
         ]
        },
        {
         "mode": "lines+markers",
         "name": "example-34ab",
         "type": "scatter",
         "x": [
          100,
          1000,
          10000,
          2000,
          20000,
          4000,
          500
         ],
         "y": [
          50.335,
          355.42,
          3678.9,
          696.72,
          7165,
          1291.12,
          180.055
         ]
        },
        {
         "mode": "lines+markers",
         "name": "example2-70bb",
         "type": "scatter",
         "x": [
          100,
          1000,
          10000,
          2000,
          20000,
          4000,
          500
         ],
         "y": [
          48.146,
          289.56,
          2229,
          593.8,
          4360.2,
          980.28,
          166.835
         ]
        },
        {
         "mode": "lines+markers",
         "name": "example2-d2c8",
         "type": "scatter",
         "x": [
          100,
          1000,
          10000,
          2000,
          20000,
          4000,
          500
         ],
         "y": [
          46.649,
          282.52,
          2246.1,
          594.08,
          4114,
          1016.24,
          173.925
         ]
        },
        {
         "mode": "lines+markers",
         "name": "normie-6117",
         "type": "scatter",
         "x": [
          100,
          1000,
          10000,
          2000,
          20000,
          4000,
          500
         ],
         "y": [
          94.325,
          445.33,
          3121,
          882.68,
          6456.6,
          1463.8,
          262.065
         ]
        },
        {
         "mode": "lines+markers",
         "name": "example-d44b",
         "type": "scatter",
         "x": [
          100,
          1000,
          10000,
          2000,
          20000,
          4000,
          500
         ],
         "y": [
          53.422,
          385.61,
          3719.4,
          821.4,
          8024,
          1445.44,
          181.84
         ]
        },
        {
         "mode": "lines+markers",
         "name": "example-e790",
         "type": "scatter",
         "x": [
          100,
          1000,
          10000,
          2000,
          20000,
          4000,
          500
         ],
         "y": [
          47.607,
          275.68,
          3064.7,
          627.76,
          6853.6,
          1106.6,
          154.935
         ]
        },
        {
         "mode": "lines+markers",
         "name": "example2-f0b5",
         "type": "scatter",
         "x": [
          100,
          1000,
          10000,
          2000,
          20000,
          4000,
          500
         ],
         "y": [
          53.543,
          350.24,
          2569.9,
          568.96,
          5238.8,
          1056.76,
          180.435
         ]
        }
       ],
       "layout": {
        "legend": {
         "title": {
          "text": "Implementation Run"
         }
        },
        "template": {
         "data": {
          "bar": [
           {
            "error_x": {
             "color": "#2a3f5f"
            },
            "error_y": {
             "color": "#2a3f5f"
            },
            "marker": {
             "line": {
              "color": "white",
              "width": 0.5
             },
             "pattern": {
              "fillmode": "overlay",
              "size": 10,
              "solidity": 0.2
             }
            },
            "type": "bar"
           }
          ],
          "barpolar": [
           {
            "marker": {
             "line": {
              "color": "white",
              "width": 0.5
             },
             "pattern": {
              "fillmode": "overlay",
              "size": 10,
              "solidity": 0.2
             }
            },
            "type": "barpolar"
           }
          ],
          "carpet": [
           {
            "aaxis": {
             "endlinecolor": "#2a3f5f",
             "gridcolor": "#C8D4E3",
             "linecolor": "#C8D4E3",
             "minorgridcolor": "#C8D4E3",
             "startlinecolor": "#2a3f5f"
            },
            "baxis": {
             "endlinecolor": "#2a3f5f",
             "gridcolor": "#C8D4E3",
             "linecolor": "#C8D4E3",
             "minorgridcolor": "#C8D4E3",
             "startlinecolor": "#2a3f5f"
            },
            "type": "carpet"
           }
          ],
          "choropleth": [
           {
            "colorbar": {
             "outlinewidth": 0,
             "ticks": ""
            },
            "type": "choropleth"
           }
          ],
          "contour": [
           {
            "colorbar": {
             "outlinewidth": 0,
             "ticks": ""
            },
            "colorscale": [
             [
              0,
              "#0d0887"
             ],
             [
              0.1111111111111111,
              "#46039f"
             ],
             [
              0.2222222222222222,
              "#7201a8"
             ],
             [
              0.3333333333333333,
              "#9c179e"
             ],
             [
              0.4444444444444444,
              "#bd3786"
             ],
             [
              0.5555555555555556,
              "#d8576b"
             ],
             [
              0.6666666666666666,
              "#ed7953"
             ],
             [
              0.7777777777777778,
              "#fb9f3a"
             ],
             [
              0.8888888888888888,
              "#fdca26"
             ],
             [
              1,
              "#f0f921"
             ]
            ],
            "type": "contour"
           }
          ],
          "contourcarpet": [
           {
            "colorbar": {
             "outlinewidth": 0,
             "ticks": ""
            },
            "type": "contourcarpet"
           }
          ],
          "heatmap": [
           {
            "colorbar": {
             "outlinewidth": 0,
             "ticks": ""
            },
            "colorscale": [
             [
              0,
              "#0d0887"
             ],
             [
              0.1111111111111111,
              "#46039f"
             ],
             [
              0.2222222222222222,
              "#7201a8"
             ],
             [
              0.3333333333333333,
              "#9c179e"
             ],
             [
              0.4444444444444444,
              "#bd3786"
             ],
             [
              0.5555555555555556,
              "#d8576b"
             ],
             [
              0.6666666666666666,
              "#ed7953"
             ],
             [
              0.7777777777777778,
              "#fb9f3a"
             ],
             [
              0.8888888888888888,
              "#fdca26"
             ],
             [
              1,
              "#f0f921"
             ]
            ],
            "type": "heatmap"
           }
          ],
          "heatmapgl": [
           {
            "colorbar": {
             "outlinewidth": 0,
             "ticks": ""
            },
            "colorscale": [
             [
              0,
              "#0d0887"
             ],
             [
              0.1111111111111111,
              "#46039f"
             ],
             [
              0.2222222222222222,
              "#7201a8"
             ],
             [
              0.3333333333333333,
              "#9c179e"
             ],
             [
              0.4444444444444444,
              "#bd3786"
             ],
             [
              0.5555555555555556,
              "#d8576b"
             ],
             [
              0.6666666666666666,
              "#ed7953"
             ],
             [
              0.7777777777777778,
              "#fb9f3a"
             ],
             [
              0.8888888888888888,
              "#fdca26"
             ],
             [
              1,
              "#f0f921"
             ]
            ],
            "type": "heatmapgl"
           }
          ],
          "histogram": [
           {
            "marker": {
             "pattern": {
              "fillmode": "overlay",
              "size": 10,
              "solidity": 0.2
             }
            },
            "type": "histogram"
           }
          ],
          "histogram2d": [
           {
            "colorbar": {
             "outlinewidth": 0,
             "ticks": ""
            },
            "colorscale": [
             [
              0,
              "#0d0887"
             ],
             [
              0.1111111111111111,
              "#46039f"
             ],
             [
              0.2222222222222222,
              "#7201a8"
             ],
             [
              0.3333333333333333,
              "#9c179e"
             ],
             [
              0.4444444444444444,
              "#bd3786"
             ],
             [
              0.5555555555555556,
              "#d8576b"
             ],
             [
              0.6666666666666666,
              "#ed7953"
             ],
             [
              0.7777777777777778,
              "#fb9f3a"
             ],
             [
              0.8888888888888888,
              "#fdca26"
             ],
             [
              1,
              "#f0f921"
             ]
            ],
            "type": "histogram2d"
           }
          ],
          "histogram2dcontour": [
           {
            "colorbar": {
             "outlinewidth": 0,
             "ticks": ""
            },
            "colorscale": [
             [
              0,
              "#0d0887"
             ],
             [
              0.1111111111111111,
              "#46039f"
             ],
             [
              0.2222222222222222,
              "#7201a8"
             ],
             [
              0.3333333333333333,
              "#9c179e"
             ],
             [
              0.4444444444444444,
              "#bd3786"
             ],
             [
              0.5555555555555556,
              "#d8576b"
             ],
             [
              0.6666666666666666,
              "#ed7953"
             ],
             [
              0.7777777777777778,
              "#fb9f3a"
             ],
             [
              0.8888888888888888,
              "#fdca26"
             ],
             [
              1,
              "#f0f921"
             ]
            ],
            "type": "histogram2dcontour"
           }
          ],
          "mesh3d": [
           {
            "colorbar": {
             "outlinewidth": 0,
             "ticks": ""
            },
            "type": "mesh3d"
           }
          ],
          "parcoords": [
           {
            "line": {
             "colorbar": {
              "outlinewidth": 0,
              "ticks": ""
             }
            },
            "type": "parcoords"
           }
          ],
          "pie": [
           {
            "automargin": true,
            "type": "pie"
           }
          ],
          "scatter": [
           {
            "fillpattern": {
             "fillmode": "overlay",
             "size": 10,
             "solidity": 0.2
            },
            "type": "scatter"
           }
          ],
          "scatter3d": [
           {
            "line": {
             "colorbar": {
              "outlinewidth": 0,
              "ticks": ""
             }
            },
            "marker": {
             "colorbar": {
              "outlinewidth": 0,
              "ticks": ""
             }
            },
            "type": "scatter3d"
           }
          ],
          "scattercarpet": [
           {
            "marker": {
             "colorbar": {
              "outlinewidth": 0,
              "ticks": ""
             }
            },
            "type": "scattercarpet"
           }
          ],
          "scattergeo": [
           {
            "marker": {
             "colorbar": {
              "outlinewidth": 0,
              "ticks": ""
             }
            },
            "type": "scattergeo"
           }
          ],
          "scattergl": [
           {
            "marker": {
             "colorbar": {
              "outlinewidth": 0,
              "ticks": ""
             }
            },
            "type": "scattergl"
           }
          ],
          "scattermapbox": [
           {
            "marker": {
             "colorbar": {
              "outlinewidth": 0,
              "ticks": ""
             }
            },
            "type": "scattermapbox"
           }
          ],
          "scatterpolar": [
           {
            "marker": {
             "colorbar": {
              "outlinewidth": 0,
              "ticks": ""
             }
            },
            "type": "scatterpolar"
           }
          ],
          "scatterpolargl": [
           {
            "marker": {
             "colorbar": {
              "outlinewidth": 0,
              "ticks": ""
             }
            },
            "type": "scatterpolargl"
           }
          ],
          "scatterternary": [
           {
            "marker": {
             "colorbar": {
              "outlinewidth": 0,
              "ticks": ""
             }
            },
            "type": "scatterternary"
           }
          ],
          "surface": [
           {
            "colorbar": {
             "outlinewidth": 0,
             "ticks": ""
            },
            "colorscale": [
             [
              0,
              "#0d0887"
             ],
             [
              0.1111111111111111,
              "#46039f"
             ],
             [
              0.2222222222222222,
              "#7201a8"
             ],
             [
              0.3333333333333333,
              "#9c179e"
             ],
             [
              0.4444444444444444,
              "#bd3786"
             ],
             [
              0.5555555555555556,
              "#d8576b"
             ],
             [
              0.6666666666666666,
              "#ed7953"
             ],
             [
              0.7777777777777778,
              "#fb9f3a"
             ],
             [
              0.8888888888888888,
              "#fdca26"
             ],
             [
              1,
              "#f0f921"
             ]
            ],
            "type": "surface"
           }
          ],
          "table": [
           {
            "cells": {
             "fill": {
              "color": "#EBF0F8"
             },
             "line": {
              "color": "white"
             }
            },
            "header": {
             "fill": {
              "color": "#C8D4E3"
             },
             "line": {
              "color": "white"
             }
            },
            "type": "table"
           }
          ]
         },
         "layout": {
          "annotationdefaults": {
           "arrowcolor": "#2a3f5f",
           "arrowhead": 0,
           "arrowwidth": 1
          },
          "autotypenumbers": "strict",
          "coloraxis": {
           "colorbar": {
            "outlinewidth": 0,
            "ticks": ""
           }
          },
          "colorscale": {
           "diverging": [
            [
             0,
             "#8e0152"
            ],
            [
             0.1,
             "#c51b7d"
            ],
            [
             0.2,
             "#de77ae"
            ],
            [
             0.3,
             "#f1b6da"
            ],
            [
             0.4,
             "#fde0ef"
            ],
            [
             0.5,
             "#f7f7f7"
            ],
            [
             0.6,
             "#e6f5d0"
            ],
            [
             0.7,
             "#b8e186"
            ],
            [
             0.8,
             "#7fbc41"
            ],
            [
             0.9,
             "#4d9221"
            ],
            [
             1,
             "#276419"
            ]
           ],
           "sequential": [
            [
             0,
             "#0d0887"
            ],
            [
             0.1111111111111111,
             "#46039f"
            ],
            [
             0.2222222222222222,
             "#7201a8"
            ],
            [
             0.3333333333333333,
             "#9c179e"
            ],
            [
             0.4444444444444444,
             "#bd3786"
            ],
            [
             0.5555555555555556,
             "#d8576b"
            ],
            [
             0.6666666666666666,
             "#ed7953"
            ],
            [
             0.7777777777777778,
             "#fb9f3a"
            ],
            [
             0.8888888888888888,
             "#fdca26"
            ],
            [
             1,
             "#f0f921"
            ]
           ],
           "sequentialminus": [
            [
             0,
             "#0d0887"
            ],
            [
             0.1111111111111111,
             "#46039f"
            ],
            [
             0.2222222222222222,
             "#7201a8"
            ],
            [
             0.3333333333333333,
             "#9c179e"
            ],
            [
             0.4444444444444444,
             "#bd3786"
            ],
            [
             0.5555555555555556,
             "#d8576b"
            ],
            [
             0.6666666666666666,
             "#ed7953"
            ],
            [
             0.7777777777777778,
             "#fb9f3a"
            ],
            [
             0.8888888888888888,
             "#fdca26"
            ],
            [
             1,
             "#f0f921"
            ]
           ]
          },
          "colorway": [
           "#636efa",
           "#EF553B",
           "#00cc96",
           "#ab63fa",
           "#FFA15A",
           "#19d3f3",
           "#FF6692",
           "#B6E880",
           "#FF97FF",
           "#FECB52"
          ],
          "font": {
           "color": "#2a3f5f"
          },
          "geo": {
           "bgcolor": "white",
           "lakecolor": "white",
           "landcolor": "white",
           "showlakes": true,
           "showland": true,
           "subunitcolor": "#C8D4E3"
          },
          "hoverlabel": {
           "align": "left"
          },
          "hovermode": "closest",
          "mapbox": {
           "style": "light"
          },
          "paper_bgcolor": "white",
          "plot_bgcolor": "white",
          "polar": {
           "angularaxis": {
            "gridcolor": "#EBF0F8",
            "linecolor": "#EBF0F8",
            "ticks": ""
           },
           "bgcolor": "white",
           "radialaxis": {
            "gridcolor": "#EBF0F8",
            "linecolor": "#EBF0F8",
            "ticks": ""
           }
          },
          "scene": {
           "xaxis": {
            "backgroundcolor": "white",
            "gridcolor": "#DFE8F3",
            "gridwidth": 2,
            "linecolor": "#EBF0F8",
            "showbackground": true,
            "ticks": "",
            "zerolinecolor": "#EBF0F8"
           },
           "yaxis": {
            "backgroundcolor": "white",
            "gridcolor": "#DFE8F3",
            "gridwidth": 2,
            "linecolor": "#EBF0F8",
            "showbackground": true,
            "ticks": "",
            "zerolinecolor": "#EBF0F8"
           },
           "zaxis": {
            "backgroundcolor": "white",
            "gridcolor": "#DFE8F3",
            "gridwidth": 2,
            "linecolor": "#EBF0F8",
            "showbackground": true,
            "ticks": "",
            "zerolinecolor": "#EBF0F8"
           }
          },
          "shapedefaults": {
           "line": {
            "color": "#2a3f5f"
           }
          },
          "ternary": {
           "aaxis": {
            "gridcolor": "#DFE8F3",
            "linecolor": "#A2B1C6",
            "ticks": ""
           },
           "baxis": {
            "gridcolor": "#DFE8F3",
            "linecolor": "#A2B1C6",
            "ticks": ""
           },
           "bgcolor": "white",
           "caxis": {
            "gridcolor": "#DFE8F3",
            "linecolor": "#A2B1C6",
            "ticks": ""
           }
          },
          "title": {
           "x": 0.05
          },
          "xaxis": {
           "automargin": true,
           "gridcolor": "#EBF0F8",
           "linecolor": "#EBF0F8",
           "ticks": "",
           "title": {
            "standoff": 15
           },
           "zerolinecolor": "#EBF0F8",
           "zerolinewidth": 2
          },
          "yaxis": {
           "automargin": true,
           "gridcolor": "#EBF0F8",
           "linecolor": "#EBF0F8",
           "ticks": "",
           "title": {
            "standoff": 15
           },
           "zerolinecolor": "#EBF0F8",
           "zerolinewidth": 2
          }
         }
        },
        "title": {
         "text": "Average Insert Duration vs. Batch Size for Different Implementations"
        },
        "xaxis": {
         "showgrid": true,
         "title": {
          "text": "Number of Rows in Batch"
         }
        },
        "yaxis": {
         "showgrid": true,
         "title": {
          "text": "Average Insert Duration (ms)"
         }
        }
       }
      }
     },
     "metadata": {},
     "output_type": "display_data"
    }
   ],
   "source": [
    "%pip install -q plotly nbformat \n",
    "import plotly.express as px\n",
    "import plotly.graph_objects as go\n",
    "import pandas as pd\n",
    "\n",
    "# Create an empty figure\n",
    "fig = go.Figure()\n",
    "\n",
    "# Iterate over each unique imp_run to plot a separate line\n",
    "imp_runs = df_avg_insert['imp_run'].unique()\n",
    "for imp_run in imp_runs:\n",
    "    subset = df_avg_insert[df_avg_insert['imp_run'] == imp_run]\n",
    "    fig.add_trace(go.Scatter(\n",
    "        x=subset['batch_size'],\n",
    "        y=subset['avg_insert_duration_ms'],\n",
    "        mode='lines+markers',\n",
    "        name=imp_run\n",
    "    ))\n",
    "\n",
    "# Set labels and title\n",
    "fig.update_layout(\n",
    "    title='Average Insert Duration vs. Batch Size for Different Implementations',\n",
    "    xaxis_title='Number of Rows in Batch',\n",
    "    yaxis_title='Average Insert Duration (ms)',\n",
    "    legend_title='Implementation Run',\n",
    "    template='plotly_white'\n",
    ")\n",
    "\n",
    "# Show grid\n",
    "fig.update_xaxes(showgrid=True)\n",
    "fig.update_yaxes(showgrid=True)\n",
    "\n",
    "# Show the plot\n",
    "fig.show()\n"
   ]
  },
  {
   "cell_type": "code",
   "execution_count": 8,
   "id": "fef41047",
   "metadata": {},
   "outputs": [
    {
     "name": "stdout",
     "output_type": "stream",
     "text": [
      "Note: you may need to restart the kernel to use updated packages.\n",
      "min 0 0.38823529411764707\n",
      "max 45965 5.0194117647058825\n",
      "avg 5292.039611\n"
     ]
    },
    {
     "data": {
      "image/png": "[encoded data removed]",
      "text/plain": [
       "<Figure size 640x480 with 1 Axes>"
      ]
     },
     "metadata": {},
     "output_type": "display_data"
    }
   ],
   "source": [
    "%pip install -q matplotlib\n",
    "\n",
    "import random  \n",
    "import matplotlib.pyplot as plt  \n",
    "\n",
    "def yield_gauss(mu, sigma, min_value, max_value):\n",
    "    while True:\n",
    "        num = int(round(random.gauss(mu, sigma),0))\n",
    "        # yield min value if lower\n",
    "        # keep trying until num is between min & max value\n",
    "        if num <= min_value:\n",
    "            yield min_value\n",
    "        elif min_value <= num <= max_value:\n",
    "            yield num\n",
    "\n",
    "# Parameters\n",
    "mu = 3300\n",
    "sigma = 8500\n",
    "min_value = 0 # 700\n",
    "max_value = 200000 # 1300\n",
    "\n",
    "# Generate numbers using the yieldable function\n",
    "nums = []\n",
    "gauss_gen = yield_gauss(mu, sigma, min_value, max_value)\n",
    "for _ in range(1_000_000):\n",
    "    nums.append(int(next(gauss_gen)))\n",
    "\n",
    "print(\"min\", min(nums), abs(mu - min(nums)) / sigma)\n",
    "print(\"max\", max(nums), abs(mu - max(nums)) / sigma)\n",
    "print(\"avg\", sum(nums) / len(nums))\n",
    "# Plotting a graph\n",
    "plt.hist(nums, bins=27)\n",
    "plt.show()"
   ]
  }
 ],
 "metadata": {
  "kernelspec": {
   "display_name": "Python 3",
   "language": "python",
   "name": "python3"
  },
  "language_info": {
   "codemirror_mode": {
    "name": "ipython",
    "version": 3
   },
   "file_extension": ".py",
   "mimetype": "text/x-python",
   "name": "python",
   "nbconvert_exporter": "python",
   "pygments_lexer": "ipython3",
   "version": "3.10.12"
  }
 },
 "nbformat": 4,
 "nbformat_minor": 5
}
