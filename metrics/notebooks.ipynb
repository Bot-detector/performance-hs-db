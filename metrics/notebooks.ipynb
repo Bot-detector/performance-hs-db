{
 "cells": [
  {
   "cell_type": "code",
   "execution_count": 21,
   "id": "initial_id",
   "metadata": {
    "collapsed": true,
    "ExecuteTime": {
     "end_time": "2024-06-10T22:34:46.305184900Z",
     "start_time": "2024-06-10T22:34:46.301264Z"
    }
   },
   "outputs": [],
   "source": [
    "import pandas as pd\n",
    "import json\n",
    "\n",
    "\n",
    "def load_dataframe(filename: str) -> pd.DataFrame:\n",
    "    with open(filename,'r') as x:\n",
    "        metrics = [json.loads(line) for line in x.read().splitlines()]\n",
    "    \n",
    "    \n",
    "    metric_recordings = {\n",
    "        'test_insert_duration_ms_10' : [],\n",
    "        'test_insert_duration_ms_100' : [],\n",
    "        'test_insert_duration_ms_1000': [],\n",
    "        #'test_insert_duration_ms_10000': [],\n",
    "    }\n",
    "    \n",
    "    metric_stats = {}\n",
    "    \n",
    "    rows = []\n",
    "    \n",
    "    for metric in metrics:\n",
    "        if metric['key'] in metric_recordings:\n",
    "            metric_recordings[metric['key']].append(metric['value'])\n",
    "    \n",
    "    \n",
    "    df = pd.DataFrame(metric_recordings)\n",
    "\n",
    "    mean_values = df.mean()\n",
    "    \n",
    "    # Extract the number of rows inserted from the keys\n",
    "    rows_inserted = [int(key.split('_')[-1]) for key in mean_values.index]\n",
    "    \n",
    "    # Calculate rows_inserted_per_second\n",
    "    rows_inserted_per_second = rows_inserted / (mean_values / 1000)  # Convert ms to seconds\n",
    "    \n",
    "    # Create a result dataframe\n",
    "    result_df = pd.DataFrame({\n",
    "        'mean_duration_ms': mean_values,\n",
    "        'rows_inserted_per_second': rows_inserted_per_second\n",
    "    })\n",
    "    return result_df\n",
    "    \n",
    "\n",
    "\n",
    "#metric_recordings['test_insert_duration_ms_10000'] *= 10\n",
    "\n",
    "# Print the amount of results for each key\n",
    "#{title : len(rows) for title,rows in metric_recordings.items()}"
   ]
  },
  {
   "cell_type": "code",
   "outputs": [],
   "source": [
    "df_compact = load_dataframe('1717977600_main_metrics.jsonl')\n",
    "df_old = load_dataframe('1717977600_main_metrics2.jsonl')\n"
   ],
   "metadata": {
    "collapsed": false,
    "ExecuteTime": {
     "end_time": "2024-06-10T22:34:46.328798800Z",
     "start_time": "2024-06-10T22:34:46.305184900Z"
    }
   },
   "id": "b95357efc4aee6a1",
   "execution_count": 22
  },
  {
   "cell_type": "code",
   "outputs": [
    {
     "data": {
      "text/plain": "                              mean_duration_ms  rows_inserted_per_second\ntest_insert_duration_ms_10               20.06                498.504487\ntest_insert_duration_ms_100              87.97               1136.751165\ntest_insert_duration_ms_1000            333.44               2999.040307",
      "text/html": "<div>\n<style scoped>\n    .dataframe tbody tr th:only-of-type {\n        vertical-align: middle;\n    }\n\n    .dataframe tbody tr th {\n        vertical-align: top;\n    }\n\n    .dataframe thead th {\n        text-align: right;\n    }\n</style>\n<table border=\"1\" class=\"dataframe\">\n  <thead>\n    <tr style=\"text-align: right;\">\n      <th></th>\n      <th>mean_duration_ms</th>\n      <th>rows_inserted_per_second</th>\n    </tr>\n  </thead>\n  <tbody>\n    <tr>\n      <th>test_insert_duration_ms_10</th>\n      <td>20.06</td>\n      <td>498.504487</td>\n    </tr>\n    <tr>\n      <th>test_insert_duration_ms_100</th>\n      <td>87.97</td>\n      <td>1136.751165</td>\n    </tr>\n    <tr>\n      <th>test_insert_duration_ms_1000</th>\n      <td>333.44</td>\n      <td>2999.040307</td>\n    </tr>\n  </tbody>\n</table>\n</div>"
     },
     "execution_count": 23,
     "metadata": {},
     "output_type": "execute_result"
    }
   ],
   "source": [
    "df_compact"
   ],
   "metadata": {
    "collapsed": false,
    "ExecuteTime": {
     "end_time": "2024-06-10T22:34:49.375690300Z",
     "start_time": "2024-06-10T22:34:49.370173Z"
    }
   },
   "id": "edfd8eb28dabaf62",
   "execution_count": 23
  },
  {
   "cell_type": "code",
   "outputs": [
    {
     "data": {
      "text/plain": "                              mean_duration_ms  rows_inserted_per_second\ntest_insert_duration_ms_10               17.80                561.797753\ntest_insert_duration_ms_100              90.07               1110.247585\ntest_insert_duration_ms_1000            493.17               2027.698360",
      "text/html": "<div>\n<style scoped>\n    .dataframe tbody tr th:only-of-type {\n        vertical-align: middle;\n    }\n\n    .dataframe tbody tr th {\n        vertical-align: top;\n    }\n\n    .dataframe thead th {\n        text-align: right;\n    }\n</style>\n<table border=\"1\" class=\"dataframe\">\n  <thead>\n    <tr style=\"text-align: right;\">\n      <th></th>\n      <th>mean_duration_ms</th>\n      <th>rows_inserted_per_second</th>\n    </tr>\n  </thead>\n  <tbody>\n    <tr>\n      <th>test_insert_duration_ms_10</th>\n      <td>17.80</td>\n      <td>561.797753</td>\n    </tr>\n    <tr>\n      <th>test_insert_duration_ms_100</th>\n      <td>90.07</td>\n      <td>1110.247585</td>\n    </tr>\n    <tr>\n      <th>test_insert_duration_ms_1000</th>\n      <td>493.17</td>\n      <td>2027.698360</td>\n    </tr>\n  </tbody>\n</table>\n</div>"
     },
     "execution_count": 24,
     "metadata": {},
     "output_type": "execute_result"
    }
   ],
   "source": [
    "df_old"
   ],
   "metadata": {
    "collapsed": false,
    "ExecuteTime": {
     "end_time": "2024-06-10T22:34:52.627460100Z",
     "start_time": "2024-06-10T22:34:52.619550200Z"
    }
   },
   "id": "238222bade78bad7",
   "execution_count": 24
  }
 ],
 "metadata": {
  "kernelspec": {
   "display_name": "Python 3",
   "language": "python",
   "name": "python3"
  },
  "language_info": {
   "codemirror_mode": {
    "name": "ipython",
    "version": 2
   },
   "file_extension": ".py",
   "mimetype": "text/x-python",
   "name": "python",
   "nbconvert_exporter": "python",
   "pygments_lexer": "ipython2",
   "version": "2.7.6"
  }
 },
 "nbformat": 4,
 "nbformat_minor": 5
}
